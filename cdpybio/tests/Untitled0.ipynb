{
 "metadata": {
  "name": "",
  "signature": "sha256:de5885140b097948f93d64aec77dae2906b66c01fcb658b193e55d3f4ca2e7b5"
 },
 "nbformat": 3,
 "nbformat_minor": 0,
 "worksheets": [
  {
   "cells": [
    {
     "cell_type": "code",
     "collapsed": false,
     "input": [
      "import cdpybio.star as star\n",
      "import cdpybio.gencode as gencode"
     ],
     "language": "python",
     "metadata": {},
     "outputs": [],
     "prompt_number": 1
    },
    {
     "cell_type": "code",
     "collapsed": false,
     "input": [
      "gencodeDF = gencode.make_splice_junction_df('/raid/databases/hg19/gene_annotations/gencode_v14/gencode.v14.annotation.gtf')"
     ],
     "language": "python",
     "metadata": {},
     "outputs": []
    },
    {
     "cell_type": "code",
     "collapsed": false,
     "input": [
      "gencodeDF.head()"
     ],
     "language": "python",
     "metadata": {},
     "outputs": []
    },
    {
     "cell_type": "code",
     "collapsed": false,
     "input": [
      "sjDF = star.tools.read_sj_out_tab('/raid2/projects/CLL/sf3b1/pipeline_results/TJK0253/TJK0253_star_align/SJ.out.tab')"
     ],
     "language": "python",
     "metadata": {},
     "outputs": []
    },
    {
     "cell_type": "code",
     "collapsed": false,
     "input": [
      "sjD = star.tools.make_sj_out_dict(['/raid2/projects/CLL/sf3b1/pipeline_results/TJK0253/TJK0253_star_align/SJ.out.tab',\n",
      "                                   '/raid2/projects/CLL/sf3b1/pipeline_results/TJK02151B1R1/TJK02151B1R1_star_align/SJ.out.tab'])"
     ],
     "language": "python",
     "metadata": {},
     "outputs": []
    },
    {
     "cell_type": "code",
     "collapsed": false,
     "input": [
      "sjP = star.tools.make_sj_out_panel(sjD)"
     ],
     "language": "python",
     "metadata": {},
     "outputs": []
    },
    {
     "cell_type": "code",
     "collapsed": false,
     "input": [
      "sum(sjDF.unique_junction_reads == 0)"
     ],
     "language": "python",
     "metadata": {},
     "outputs": [
      {
       "metadata": {},
       "output_type": "pyout",
       "prompt_number": 8,
       "text": [
        "383560"
       ]
      }
     ],
     "prompt_number": 8
    },
    {
     "cell_type": "code",
     "collapsed": false,
     "input": [
      "read_sj_out_tab(filename)\n",
      "make_sj_out_dict(fnL, define_sample_name=None)\n",
      "make_sj_out_panel(sj_outD, total_jxn_cov_cutoff=20, statsN=None)\n",
      "read_external_annotation(fn)\n",
      "filter_jxns_donor_acceptor(sj_outP, annotDF, extDF, statsN=None)"
     ],
     "language": "python",
     "metadata": {},
     "outputs": []
    }
   ],
   "metadata": {}
  }
 ]
}