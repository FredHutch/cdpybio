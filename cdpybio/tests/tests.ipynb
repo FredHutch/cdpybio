{
 "metadata": {
  "name": "",
  "signature": "sha256:211965065908862adaa4f485dff35eaa803e0a589851dd3849faa6b30de9bf17"
 },
 "nbformat": 3,
 "nbformat_minor": 0,
 "worksheets": [
  {
   "cells": [
    {
     "cell_type": "code",
     "collapsed": false,
     "input": [
      "import os\n",
      "\n",
      "import cdpybio.star as star\n",
      "import cdpybio.gencode as gencode"
     ],
     "language": "python",
     "metadata": {},
     "outputs": [],
     "prompt_number": 1
    },
    {
     "cell_type": "code",
     "collapsed": false,
     "input": [
      "if not os.path.exists('splice.tsv'):\n",
      "    spliceDF = gencode.make_splice_junction_df('/raid/databases/hg19/gene_annotations/gencode_v14/gencode.v14.annotation.gtf')\n",
      "    spliceDF.to_csv('splice.tsv', sep='\\t')\n",
      "else:\n",
      "    spliceDF = pd.read_table('splice.tsv',header=0,index_col=None)"
     ],
     "language": "python",
     "metadata": {},
     "outputs": [],
     "prompt_number": 2
    },
    {
     "cell_type": "code",
     "collapsed": false,
     "input": [
      "spliceDF = gencodeDF\n",
      "spliceDF.to_csv('splice.tsv', sep='\\t')"
     ],
     "language": "python",
     "metadata": {},
     "outputs": []
    },
    {
     "cell_type": "code",
     "collapsed": false,
     "input": [
      "gencodeDF.head()"
     ],
     "language": "python",
     "metadata": {},
     "outputs": [
      {
       "html": [
        "<div style=\"max-height:1000px;max-width:1500px;overflow:auto;\">\n",
        "<table border=\"1\" class=\"dataframe\">\n",
        "  <thead>\n",
        "    <tr style=\"text-align: right;\">\n",
        "      <th></th>\n",
        "      <th>gene</th>\n",
        "      <th>chrom</th>\n",
        "      <th>start</th>\n",
        "      <th>end</th>\n",
        "      <th>strand</th>\n",
        "      <th>chr:start</th>\n",
        "      <th>chr:end</th>\n",
        "      <th>donor</th>\n",
        "      <th>acceptor</th>\n",
        "      <th>intron</th>\n",
        "    </tr>\n",
        "  </thead>\n",
        "  <tbody>\n",
        "    <tr>\n",
        "      <th>chr1:12228-12612:+</th>\n",
        "      <td> ENSG00000223972.4</td>\n",
        "      <td> chr1</td>\n",
        "      <td> 12228</td>\n",
        "      <td> 12612</td>\n",
        "      <td> +</td>\n",
        "      <td> chr1:12228</td>\n",
        "      <td> chr1:12612</td>\n",
        "      <td> chr1:12228:+</td>\n",
        "      <td> chr1:12612:+</td>\n",
        "      <td> chr1:12228:12612</td>\n",
        "    </tr>\n",
        "    <tr>\n",
        "      <th>chr1:12722-13220:+</th>\n",
        "      <td> ENSG00000223972.4</td>\n",
        "      <td> chr1</td>\n",
        "      <td> 12722</td>\n",
        "      <td> 13220</td>\n",
        "      <td> +</td>\n",
        "      <td> chr1:12722</td>\n",
        "      <td> chr1:13220</td>\n",
        "      <td> chr1:12722:+</td>\n",
        "      <td> chr1:13220:+</td>\n",
        "      <td> chr1:12722:13220</td>\n",
        "    </tr>\n",
        "    <tr>\n",
        "      <th>chr1:12722-13224:+</th>\n",
        "      <td> ENSG00000223972.4</td>\n",
        "      <td> chr1</td>\n",
        "      <td> 12722</td>\n",
        "      <td> 13224</td>\n",
        "      <td> +</td>\n",
        "      <td> chr1:12722</td>\n",
        "      <td> chr1:13224</td>\n",
        "      <td> chr1:12722:+</td>\n",
        "      <td> chr1:13224:+</td>\n",
        "      <td> chr1:12722:13224</td>\n",
        "    </tr>\n",
        "    <tr>\n",
        "      <th>chr1:12228-12594:+</th>\n",
        "      <td> ENSG00000223972.4</td>\n",
        "      <td> chr1</td>\n",
        "      <td> 12228</td>\n",
        "      <td> 12594</td>\n",
        "      <td> +</td>\n",
        "      <td> chr1:12228</td>\n",
        "      <td> chr1:12594</td>\n",
        "      <td> chr1:12228:+</td>\n",
        "      <td> chr1:12594:+</td>\n",
        "      <td> chr1:12228:12594</td>\n",
        "    </tr>\n",
        "    <tr>\n",
        "      <th>chr1:12722-13402:+</th>\n",
        "      <td> ENSG00000223972.4</td>\n",
        "      <td> chr1</td>\n",
        "      <td> 12722</td>\n",
        "      <td> 13402</td>\n",
        "      <td> +</td>\n",
        "      <td> chr1:12722</td>\n",
        "      <td> chr1:13402</td>\n",
        "      <td> chr1:12722:+</td>\n",
        "      <td> chr1:13402:+</td>\n",
        "      <td> chr1:12722:13402</td>\n",
        "    </tr>\n",
        "  </tbody>\n",
        "</table>\n",
        "<p>5 rows \u00d7 10 columns</p>\n",
        "</div>"
       ],
       "metadata": {},
       "output_type": "pyout",
       "prompt_number": 3,
       "text": [
        "                                 gene chrom  start    end strand   chr:start  \\\n",
        "chr1:12228-12612:+  ENSG00000223972.4  chr1  12228  12612      +  chr1:12228   \n",
        "chr1:12722-13220:+  ENSG00000223972.4  chr1  12722  13220      +  chr1:12722   \n",
        "chr1:12722-13224:+  ENSG00000223972.4  chr1  12722  13224      +  chr1:12722   \n",
        "chr1:12228-12594:+  ENSG00000223972.4  chr1  12228  12594      +  chr1:12228   \n",
        "chr1:12722-13402:+  ENSG00000223972.4  chr1  12722  13402      +  chr1:12722   \n",
        "\n",
        "                       chr:end         donor      acceptor            intron  \n",
        "chr1:12228-12612:+  chr1:12612  chr1:12228:+  chr1:12612:+  chr1:12228:12612  \n",
        "chr1:12722-13220:+  chr1:13220  chr1:12722:+  chr1:13220:+  chr1:12722:13220  \n",
        "chr1:12722-13224:+  chr1:13224  chr1:12722:+  chr1:13224:+  chr1:12722:13224  \n",
        "chr1:12228-12594:+  chr1:12594  chr1:12228:+  chr1:12594:+  chr1:12228:12594  \n",
        "chr1:12722-13402:+  chr1:13402  chr1:12722:+  chr1:13402:+  chr1:12722:13402  \n",
        "\n",
        "[5 rows x 10 columns]"
       ]
      }
     ],
     "prompt_number": 3
    },
    {
     "cell_type": "code",
     "collapsed": false,
     "input": [
      "sjDF = star.tools.read_sj_out_tab('/raid2/projects/CLL/sf3b1/pipeline_results/TJK0253/TJK0253_star_align/SJ.out.tab')"
     ],
     "language": "python",
     "metadata": {},
     "outputs": [],
     "prompt_number": 4
    },
    {
     "cell_type": "code",
     "collapsed": false,
     "input": [
      "sjD = star.tools.make_sj_out_dict(['/raid2/projects/CLL/sf3b1/pipeline_results/TJK0253/TJK0253_star_align/SJ.out.tab',\n",
      "                                   '/raid2/projects/CLL/sf3b1/pipeline_results/TJK02151B1R1/TJK02151B1R1_star_align/SJ.out.tab'])"
     ],
     "language": "python",
     "metadata": {},
     "outputs": [],
     "prompt_number": 5
    },
    {
     "cell_type": "code",
     "collapsed": false,
     "input": [
      "sjP = star.tools.make_sj_out_panel(sjD)"
     ],
     "language": "python",
     "metadata": {},
     "outputs": [],
     "prompt_number": 6
    },
    {
     "cell_type": "code",
     "collapsed": false,
     "input": [
      "sum(sjDF.unique_junction_reads == 0)"
     ],
     "language": "python",
     "metadata": {},
     "outputs": [
      {
       "metadata": {},
       "output_type": "pyout",
       "prompt_number": 8,
       "text": [
        "383560"
       ]
      }
     ],
     "prompt_number": 8
    },
    {
     "cell_type": "code",
     "collapsed": false,
     "input": [
      "read_sj_out_tab(filename)\n",
      "make_sj_out_dict(fnL, define_sample_name=None)\n",
      "make_sj_out_panel(sj_outD, total_jxn_cov_cutoff=20, statsN=None)\n",
      "read_external_annotation(fn)\n",
      "filter_jxns_donor_acceptor(sj_outP, annotDF, extDF, statsN=None)"
     ],
     "language": "python",
     "metadata": {},
     "outputs": []
    }
   ],
   "metadata": {}
  }
 ]
}