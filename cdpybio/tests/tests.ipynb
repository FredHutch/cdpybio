{
 "metadata": {
  "name": "",
  "signature": "sha256:2bd04b9f5f6b82dcc80240ec0fb3694b239a11c3aa2447db5ee8408d0085e142"
 },
 "nbformat": 3,
 "nbformat_minor": 0,
 "worksheets": [
  {
   "cells": [
    {
     "cell_type": "code",
     "collapsed": false,
     "input": [
      "import os\n",
      "\n",
      "import cdpybio.star as star\n",
      "import cdpybio.gencode as gencode"
     ],
     "language": "python",
     "metadata": {},
     "outputs": [],
     "prompt_number": 1
    },
    {
     "cell_type": "code",
     "collapsed": false,
     "input": [
      "if not os.path.exists('splice.tsv'):\n",
      "    spliceDF = gencode.make_splice_junction_df('/raid/databases/hg19/gene_annotations/gencode_v14/gencode.v14.annotation.gtf')\n",
      "    spliceDF.to_csv('splice.tsv', sep='\\t')\n",
      "else:\n",
      "    spliceDF = pd.read_table('splice.tsv',header=0,index_col=None)"
     ],
     "language": "python",
     "metadata": {},
     "outputs": [],
     "prompt_number": 2
    },
    {
     "cell_type": "code",
     "collapsed": false,
     "input": [
      "spliceDF.head()"
     ],
     "language": "python",
     "metadata": {},
     "outputs": [
      {
       "html": [
        "<div style=\"max-height:1000px;max-width:1500px;overflow:auto;\">\n",
        "<table border=\"1\" class=\"dataframe\">\n",
        "  <thead>\n",
        "    <tr style=\"text-align: right;\">\n",
        "      <th></th>\n",
        "      <th>gene</th>\n",
        "      <th>chrom</th>\n",
        "      <th>start</th>\n",
        "      <th>end</th>\n",
        "      <th>strand</th>\n",
        "      <th>chr:start</th>\n",
        "      <th>chr:end</th>\n",
        "      <th>donor</th>\n",
        "      <th>acceptor</th>\n",
        "      <th>intron</th>\n",
        "    </tr>\n",
        "  </thead>\n",
        "  <tbody>\n",
        "    <tr>\n",
        "      <th>chr1:12228-12612:+</th>\n",
        "      <td> ENSG00000223972.4</td>\n",
        "      <td> chr1</td>\n",
        "      <td> 12228</td>\n",
        "      <td> 12612</td>\n",
        "      <td> +</td>\n",
        "      <td> chr1:12228</td>\n",
        "      <td> chr1:12612</td>\n",
        "      <td> chr1:12228:+</td>\n",
        "      <td> chr1:12612:+</td>\n",
        "      <td> chr1:12228:12612</td>\n",
        "    </tr>\n",
        "    <tr>\n",
        "      <th>chr1:12722-13220:+</th>\n",
        "      <td> ENSG00000223972.4</td>\n",
        "      <td> chr1</td>\n",
        "      <td> 12722</td>\n",
        "      <td> 13220</td>\n",
        "      <td> +</td>\n",
        "      <td> chr1:12722</td>\n",
        "      <td> chr1:13220</td>\n",
        "      <td> chr1:12722:+</td>\n",
        "      <td> chr1:13220:+</td>\n",
        "      <td> chr1:12722:13220</td>\n",
        "    </tr>\n",
        "    <tr>\n",
        "      <th>chr1:12722-13224:+</th>\n",
        "      <td> ENSG00000223972.4</td>\n",
        "      <td> chr1</td>\n",
        "      <td> 12722</td>\n",
        "      <td> 13224</td>\n",
        "      <td> +</td>\n",
        "      <td> chr1:12722</td>\n",
        "      <td> chr1:13224</td>\n",
        "      <td> chr1:12722:+</td>\n",
        "      <td> chr1:13224:+</td>\n",
        "      <td> chr1:12722:13224</td>\n",
        "    </tr>\n",
        "    <tr>\n",
        "      <th>chr1:12228-12594:+</th>\n",
        "      <td> ENSG00000223972.4</td>\n",
        "      <td> chr1</td>\n",
        "      <td> 12228</td>\n",
        "      <td> 12594</td>\n",
        "      <td> +</td>\n",
        "      <td> chr1:12228</td>\n",
        "      <td> chr1:12594</td>\n",
        "      <td> chr1:12228:+</td>\n",
        "      <td> chr1:12594:+</td>\n",
        "      <td> chr1:12228:12594</td>\n",
        "    </tr>\n",
        "    <tr>\n",
        "      <th>chr1:12722-13402:+</th>\n",
        "      <td> ENSG00000223972.4</td>\n",
        "      <td> chr1</td>\n",
        "      <td> 12722</td>\n",
        "      <td> 13402</td>\n",
        "      <td> +</td>\n",
        "      <td> chr1:12722</td>\n",
        "      <td> chr1:13402</td>\n",
        "      <td> chr1:12722:+</td>\n",
        "      <td> chr1:13402:+</td>\n",
        "      <td> chr1:12722:13402</td>\n",
        "    </tr>\n",
        "  </tbody>\n",
        "</table>\n",
        "<p>5 rows \u00d7 10 columns</p>\n",
        "</div>"
       ],
       "metadata": {},
       "output_type": "pyout",
       "prompt_number": 3,
       "text": [
        "                                 gene chrom  start    end strand   chr:start  \\\n",
        "chr1:12228-12612:+  ENSG00000223972.4  chr1  12228  12612      +  chr1:12228   \n",
        "chr1:12722-13220:+  ENSG00000223972.4  chr1  12722  13220      +  chr1:12722   \n",
        "chr1:12722-13224:+  ENSG00000223972.4  chr1  12722  13224      +  chr1:12722   \n",
        "chr1:12228-12594:+  ENSG00000223972.4  chr1  12228  12594      +  chr1:12228   \n",
        "chr1:12722-13402:+  ENSG00000223972.4  chr1  12722  13402      +  chr1:12722   \n",
        "\n",
        "                       chr:end         donor      acceptor            intron  \n",
        "chr1:12228-12612:+  chr1:12612  chr1:12228:+  chr1:12612:+  chr1:12228:12612  \n",
        "chr1:12722-13220:+  chr1:13220  chr1:12722:+  chr1:13220:+  chr1:12722:13220  \n",
        "chr1:12722-13224:+  chr1:13224  chr1:12722:+  chr1:13224:+  chr1:12722:13224  \n",
        "chr1:12228-12594:+  chr1:12594  chr1:12228:+  chr1:12594:+  chr1:12228:12594  \n",
        "chr1:12722-13402:+  chr1:13402  chr1:12722:+  chr1:13402:+  chr1:12722:13402  \n",
        "\n",
        "[5 rows x 10 columns]"
       ]
      }
     ],
     "prompt_number": 3
    },
    {
     "cell_type": "code",
     "collapsed": false,
     "input": [
      "sjDF = star.tools.read_sj_out_tab('/raid2/projects/CLL/sf3b1/pipeline_results/TJK0253/TJK0253_star_align/SJ.out.tab')"
     ],
     "language": "python",
     "metadata": {},
     "outputs": [],
     "prompt_number": 4
    },
    {
     "cell_type": "code",
     "collapsed": false,
     "input": [
      "sjD = star.tools.make_sj_out_dict(['/raid2/projects/CLL/sf3b1/pipeline_results/TJK0253/TJK0253_star_align/SJ.out.tab',\n",
      "                                   '/raid2/projects/CLL/sf3b1/pipeline_results/TJK02151B1R1/TJK02151B1R1_star_align/SJ.out.tab'])"
     ],
     "language": "python",
     "metadata": {},
     "outputs": [],
     "prompt_number": 23
    },
    {
     "cell_type": "code",
     "collapsed": false,
     "input": [
      "sjP,annotDF = star.tools.make_sj_out_panel(sjD)"
     ],
     "language": "python",
     "metadata": {},
     "outputs": [],
     "prompt_number": 6
    },
    {
     "cell_type": "code",
     "collapsed": false,
     "input": [
      "sum(sjDF.unique_junction_reads == 0)"
     ],
     "language": "python",
     "metadata": {},
     "outputs": [
      {
       "metadata": {},
       "output_type": "pyout",
       "prompt_number": 12,
       "text": [
        "383560"
       ]
      }
     ],
     "prompt_number": 12
    },
    {
     "cell_type": "code",
     "collapsed": false,
     "input": [
      "4 + 4"
     ],
     "language": "python",
     "metadata": {},
     "outputs": [
      {
       "metadata": {},
       "output_type": "pyout",
       "prompt_number": 26,
       "text": [
        "8"
       ]
      }
     ],
     "prompt_number": 26
    },
    {
     "cell_type": "code",
     "collapsed": false,
     "input": [
      "sum(sjD[sjD.keys()[0]].unique_junction_reads == 0)"
     ],
     "language": "python",
     "metadata": {},
     "outputs": [
      {
       "metadata": {},
       "output_type": "pyout",
       "prompt_number": 16,
       "text": [
        "159"
       ]
      }
     ],
     "prompt_number": 16
    },
    {
     "cell_type": "code",
     "collapsed": false,
     "input": [
      "sjD[sjD.keys()[0]].shape"
     ],
     "language": "python",
     "metadata": {},
     "outputs": [
      {
       "metadata": {},
       "output_type": "pyout",
       "prompt_number": 24,
       "text": [
        "(856990, 9)"
       ]
      }
     ],
     "prompt_number": 24
    },
    {
     "cell_type": "code",
     "collapsed": false,
     "input": [
      "sjDF.shape"
     ],
     "language": "python",
     "metadata": {},
     "outputs": [
      {
       "metadata": {},
       "output_type": "pyout",
       "prompt_number": 25,
       "text": [
        "(856990, 9)"
       ]
      }
     ],
     "prompt_number": 25
    },
    {
     "cell_type": "code",
     "collapsed": false,
     "input": [
      "sjD[sjD.keys()[0]].head()"
     ],
     "language": "python",
     "metadata": {},
     "outputs": [
      {
       "html": [
        "<div style=\"max-height:1000px;max-width:1500px;overflow:auto;\">\n",
        "<table border=\"1\" class=\"dataframe\">\n",
        "  <thead>\n",
        "    <tr style=\"text-align: right;\">\n",
        "      <th></th>\n",
        "      <th>chrom</th>\n",
        "      <th>first_bp_intron</th>\n",
        "      <th>last_bp_intron</th>\n",
        "      <th>strand</th>\n",
        "      <th>intron_motif</th>\n",
        "      <th>annotated</th>\n",
        "      <th>unique_junction_reads</th>\n",
        "      <th>multimap_junction_reads</th>\n",
        "      <th>max_overhang</th>\n",
        "    </tr>\n",
        "  </thead>\n",
        "  <tbody>\n",
        "    <tr>\n",
        "      <th>chr6:35558998-35565024</th>\n",
        "      <td>  chr6</td>\n",
        "      <td>  35558998</td>\n",
        "      <td>  35565024</td>\n",
        "      <td> 2</td>\n",
        "      <td> CT/AC</td>\n",
        "      <td> True</td>\n",
        "      <td> 105</td>\n",
        "      <td>   6</td>\n",
        "      <td> 37</td>\n",
        "    </tr>\n",
        "    <tr>\n",
        "      <th>chr9:115015069-115024714</th>\n",
        "      <td>  chr9</td>\n",
        "      <td> 115015069</td>\n",
        "      <td> 115024714</td>\n",
        "      <td> 2</td>\n",
        "      <td> CT/AC</td>\n",
        "      <td> True</td>\n",
        "      <td>  99</td>\n",
        "      <td>   2</td>\n",
        "      <td> 37</td>\n",
        "    </tr>\n",
        "    <tr>\n",
        "      <th>chr10:111625071-111628371</th>\n",
        "      <td> chr10</td>\n",
        "      <td> 111625071</td>\n",
        "      <td> 111628371</td>\n",
        "      <td> 2</td>\n",
        "      <td> CT/AC</td>\n",
        "      <td> True</td>\n",
        "      <td>  29</td>\n",
        "      <td>   0</td>\n",
        "      <td> 37</td>\n",
        "    </tr>\n",
        "    <tr>\n",
        "      <th>chr7:74300330-74300539</th>\n",
        "      <td>  chr7</td>\n",
        "      <td>  74300330</td>\n",
        "      <td>  74300539</td>\n",
        "      <td> 2</td>\n",
        "      <td> CT/AC</td>\n",
        "      <td> True</td>\n",
        "      <td> 160</td>\n",
        "      <td> 565</td>\n",
        "      <td> 37</td>\n",
        "    </tr>\n",
        "    <tr>\n",
        "      <th>chr3:178937066-178937358</th>\n",
        "      <td>  chr3</td>\n",
        "      <td> 178937066</td>\n",
        "      <td> 178937358</td>\n",
        "      <td> 1</td>\n",
        "      <td> GT/AG</td>\n",
        "      <td> True</td>\n",
        "      <td>   7</td>\n",
        "      <td>   6</td>\n",
        "      <td> 36</td>\n",
        "    </tr>\n",
        "  </tbody>\n",
        "</table>\n",
        "<p>5 rows \u00d7 9 columns</p>\n",
        "</div>"
       ],
       "metadata": {},
       "output_type": "pyout",
       "prompt_number": 19,
       "text": [
        "                           chrom  first_bp_intron  last_bp_intron  strand  \\\n",
        "chr6:35558998-35565024      chr6         35558998        35565024       2   \n",
        "chr9:115015069-115024714    chr9        115015069       115024714       2   \n",
        "chr10:111625071-111628371  chr10        111625071       111628371       2   \n",
        "chr7:74300330-74300539      chr7         74300330        74300539       2   \n",
        "chr3:178937066-178937358    chr3        178937066       178937358       1   \n",
        "\n",
        "                          intron_motif annotated  unique_junction_reads  \\\n",
        "chr6:35558998-35565024           CT/AC      True                    105   \n",
        "chr9:115015069-115024714         CT/AC      True                     99   \n",
        "chr10:111625071-111628371        CT/AC      True                     29   \n",
        "chr7:74300330-74300539           CT/AC      True                    160   \n",
        "chr3:178937066-178937358         GT/AG      True                      7   \n",
        "\n",
        "                           multimap_junction_reads  max_overhang  \n",
        "chr6:35558998-35565024                           6            37  \n",
        "chr9:115015069-115024714                         2            37  \n",
        "chr10:111625071-111628371                        0            37  \n",
        "chr7:74300330-74300539                         565            37  \n",
        "chr3:178937066-178937358                         6            36  \n",
        "\n",
        "[5 rows x 9 columns]"
       ]
      }
     ],
     "prompt_number": 19
    },
    {
     "cell_type": "code",
     "collapsed": false,
     "input": [
      "sjDF.head()"
     ],
     "language": "python",
     "metadata": {},
     "outputs": [
      {
       "html": [
        "<div style=\"max-height:1000px;max-width:1500px;overflow:auto;\">\n",
        "<table border=\"1\" class=\"dataframe\">\n",
        "  <thead>\n",
        "    <tr style=\"text-align: right;\">\n",
        "      <th></th>\n",
        "      <th>chrom</th>\n",
        "      <th>first_bp_intron</th>\n",
        "      <th>last_bp_intron</th>\n",
        "      <th>strand</th>\n",
        "      <th>intron_motif</th>\n",
        "      <th>annotated</th>\n",
        "      <th>unique_junction_reads</th>\n",
        "      <th>multimap_junction_reads</th>\n",
        "      <th>max_overhang</th>\n",
        "    </tr>\n",
        "  </thead>\n",
        "  <tbody>\n",
        "    <tr>\n",
        "      <th>0</th>\n",
        "      <td> chr1</td>\n",
        "      <td> 10078</td>\n",
        "      <td> 10178</td>\n",
        "      <td> 2</td>\n",
        "      <td> CT/AC</td>\n",
        "      <td> False</td>\n",
        "      <td> 0</td>\n",
        "      <td> 1</td>\n",
        "      <td>  7</td>\n",
        "    </tr>\n",
        "    <tr>\n",
        "      <th>1</th>\n",
        "      <td> chr1</td>\n",
        "      <td> 10119</td>\n",
        "      <td> 10178</td>\n",
        "      <td> 2</td>\n",
        "      <td> CT/AC</td>\n",
        "      <td> False</td>\n",
        "      <td> 0</td>\n",
        "      <td> 1</td>\n",
        "      <td>  7</td>\n",
        "    </tr>\n",
        "    <tr>\n",
        "      <th>2</th>\n",
        "      <td> chr1</td>\n",
        "      <td> 10592</td>\n",
        "      <td> 12009</td>\n",
        "      <td> 1</td>\n",
        "      <td> GT/AG</td>\n",
        "      <td>  True</td>\n",
        "      <td> 0</td>\n",
        "      <td> 1</td>\n",
        "      <td>  1</td>\n",
        "    </tr>\n",
        "    <tr>\n",
        "      <th>3</th>\n",
        "      <td> chr1</td>\n",
        "      <td> 11845</td>\n",
        "      <td> 12009</td>\n",
        "      <td> 1</td>\n",
        "      <td> GT/AG</td>\n",
        "      <td> False</td>\n",
        "      <td> 0</td>\n",
        "      <td> 1</td>\n",
        "      <td> 14</td>\n",
        "    </tr>\n",
        "    <tr>\n",
        "      <th>4</th>\n",
        "      <td> chr1</td>\n",
        "      <td> 12698</td>\n",
        "      <td> 13220</td>\n",
        "      <td> 1</td>\n",
        "      <td> GT/AG</td>\n",
        "      <td>  True</td>\n",
        "      <td> 0</td>\n",
        "      <td> 1</td>\n",
        "      <td> 37</td>\n",
        "    </tr>\n",
        "  </tbody>\n",
        "</table>\n",
        "<p>5 rows \u00d7 9 columns</p>\n",
        "</div>"
       ],
       "metadata": {},
       "output_type": "pyout",
       "prompt_number": 18,
       "text": [
        "  chrom  first_bp_intron  last_bp_intron  strand intron_motif annotated  \\\n",
        "0  chr1            10078           10178       2        CT/AC     False   \n",
        "1  chr1            10119           10178       2        CT/AC     False   \n",
        "2  chr1            10592           12009       1        GT/AG      True   \n",
        "3  chr1            11845           12009       1        GT/AG     False   \n",
        "4  chr1            12698           13220       1        GT/AG      True   \n",
        "\n",
        "   unique_junction_reads  multimap_junction_reads  max_overhang  \n",
        "0                      0                        1             7  \n",
        "1                      0                        1             7  \n",
        "2                      0                        1             1  \n",
        "3                      0                        1            14  \n",
        "4                      0                        1            37  \n",
        "\n",
        "[5 rows x 9 columns]"
       ]
      }
     ],
     "prompt_number": 18
    },
    {
     "cell_type": "code",
     "collapsed": false,
     "input": [
      "sjD.keys()"
     ],
     "language": "python",
     "metadata": {},
     "outputs": [
      {
       "metadata": {},
       "output_type": "pyout",
       "prompt_number": 20,
       "text": [
        "['/raid2/projects/CLL/sf3b1/pipeline_results/TJK0253/TJK0253_star_align/SJ.out.tab',\n",
        " '/raid2/projects/CLL/sf3b1/pipeline_results/TJK02151B1R1/TJK02151B1R1_star_align/SJ.out.tab']"
       ]
      }
     ],
     "prompt_number": 20
    },
    {
     "cell_type": "code",
     "collapsed": false,
     "input": [
      "read_sj_out_tab(filename)\n",
      "make_sj_out_dict(fnL, define_sample_name=None)\n",
      "make_sj_out_panel(sj_outD, total_jxn_cov_cutoff=20, statsN=None)\n",
      "read_external_annotation(fn)\n",
      "filter_jxns_donor_acceptor(sj_outP, annotDF, extDF, statsN=None)"
     ],
     "language": "python",
     "metadata": {},
     "outputs": []
    }
   ],
   "metadata": {}
  }
 ]
}